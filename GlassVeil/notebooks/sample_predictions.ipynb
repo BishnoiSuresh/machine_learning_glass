{
 "cells": [
  {
   "cell_type": "code",
   "execution_count": 1,
   "metadata": {},
   "outputs": [],
   "source": [
    "import pandas as pd\n",
    "import numpy as np\n",
    "import torch\n",
    "import time\n",
    "import sys\n",
    "import os\n",
    "\n",
    "import warnings\n",
    "warnings.filterwarnings(\"ignore\")\n",
    "\n",
    "\n",
    "from sklearn.model_selection import train_test_split\n",
    "import shap"
   ]
  },
  {
   "cell_type": "code",
   "execution_count": 2,
   "metadata": {},
   "outputs": [],
   "source": [
    "sys.path.insert(0,'../utils')"
   ]
  },
  {
   "cell_type": "markdown",
   "metadata": {},
   "source": [
    "<h3>Loading models"
   ]
  },
  {
   "cell_type": "code",
   "execution_count": 7,
   "metadata": {},
   "outputs": [],
   "source": [
    "from dropout_norm import DropoutNormNet, split, DoML\n",
    "from torch import nn\n",
    "import matplotlib.pyplot as plt\n",
    "import datetime\n",
    "from sklearn.metrics import r2_score\n",
    "import pickle\n",
    "from sklearn.model_selection import KFold\n",
    "import json"
   ]
  },
  {
   "cell_type": "code",
   "execution_count": 4,
   "metadata": {},
   "outputs": [],
   "source": [
    "def myloss(y,ypred):\n",
    "    return ((y-ypred)**2).sum(axis=0)/y.shape[0]\n",
    "\n",
    "with open('../models/nd_drop_final_report.pickle','rb') as f:\n",
    "    op = pickle.load(f)\n",
    "op = op[1:]\n",
    "    \n",
    "with open('../models/Vd_drop_final_report_.pickle','rb') as f:\n",
    "    op1 = pickle.load(f)\n",
    "op1 = op1[1:]"
   ]
  },
  {
   "cell_type": "code",
   "execution_count": 16,
   "metadata": {},
   "outputs": [],
   "source": [
    "model_nd = op[0][1].model\n",
    "model_vd = op1[0][0].model"
   ]
  },
  {
   "cell_type": "markdown",
   "metadata": {},
   "source": [
    "<h3>Loading mean and standard deviation"
   ]
  },
  {
   "cell_type": "code",
   "execution_count": 52,
   "metadata": {},
   "outputs": [],
   "source": [
    "nd_mean = op[0][1].means\n",
    "nd_stds = op[0][1].stds\n",
    "\n",
    "vd_mean = op1[0][0].means\n",
    "vd_stds = op1[0][0].stds"
   ]
  },
  {
   "cell_type": "markdown",
   "metadata": {},
   "source": [
    "<h3>For predictions"
   ]
  },
  {
   "cell_type": "markdown",
   "metadata": {},
   "source": [
    "<h4>predicting n$_d$"
   ]
  },
  {
   "cell_type": "code",
   "execution_count": 41,
   "metadata": {},
   "outputs": [],
   "source": [
    "#for nd\n",
    "df_prednd = pd.read_csv('../data/sample_nd.csv')\n",
    "xpred_nd = torch.tensor(df_prednd[df_prednd.columns[:-1]].values)\n",
    "normalised_xpred_nd = (xpred_nd-nd_mean[0][:-1])/nd_stds[0][:-1]\n",
    "nd_predicted = model_nd(normalised_xpred_nd.float())*nd_stds[0][-1]+nd_mean[0][-1]"
   ]
  },
  {
   "cell_type": "markdown",
   "metadata": {},
   "source": [
    "<h4>predicting V$_d$"
   ]
  },
  {
   "cell_type": "code",
   "execution_count": 54,
   "metadata": {},
   "outputs": [],
   "source": [
    "#for nd\n",
    "df_predvd = pd.read_csv('../data/sample_vd.csv')\n",
    "xpred_vd = torch.tensor(df_predvd[df_predvd.columns[:-1]].values)\n",
    "normalised_xpred_vd = (xpred_vd-vd_mean[0][:-1])/vd_stds[0][:-1]\n",
    "vd_predicted = model_vd(normalised_xpred_vd.float())*vd_stds[0][-1]+vd_mean[0][-1]"
   ]
  }
 ],
 "metadata": {
  "kernelspec": {
   "display_name": "Python 3",
   "language": "python",
   "name": "python3"
  },
  "language_info": {
   "codemirror_mode": {
    "name": "ipython",
    "version": 3
   },
   "file_extension": ".py",
   "mimetype": "text/x-python",
   "name": "python",
   "nbconvert_exporter": "python",
   "pygments_lexer": "ipython3",
   "version": "3.7.6"
  }
 },
 "nbformat": 4,
 "nbformat_minor": 4
}
