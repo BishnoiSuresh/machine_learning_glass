{
 "cells": [
  {
   "cell_type": "code",
   "execution_count": null,
   "metadata": {},
   "outputs": [],
   "source": [
    "import pandas as pd\n",
    "import os\n",
    "import matplotlib.pyplot as plt\n",
    "from sklearn.manifold import TSNE\n",
    "import numpy as np\n",
    "from new_plot import *\n",
    "set_things()\n",
    "import json"
   ]
  },
  {
   "cell_type": "code",
   "execution_count": null,
   "metadata": {},
   "outputs": [],
   "source": [
    "def set_label(x):\n",
    "    if x in to_color:\n",
    "        return x\n",
    "    else:\n",
    "        return 0\n",
    "def make_hill(x): \n",
    "    #function for converting chemical formulas into Hill notation for images\n",
    "    lable = '' \n",
    "    for i in x: \n",
    "        if i  in ['2','3','4','5','6','7','8','9']: \n",
    "            subs = \"$_\" + i  + \"$\" \n",
    "            lable = lable + subs \n",
    "        else: \n",
    "            lable = lable + i   \n",
    "    return lable "
   ]
  },
  {
   "cell_type": "code",
   "execution_count": null,
   "metadata": {},
   "outputs": [],
   "source": [
    "root = os.getcwd()"
   ]
  },
  {
   "cell_type": "code",
   "execution_count": null,
   "metadata": {},
   "outputs": [],
   "source": [
    "tsne_legend_path = os.path.join(root,'tsne_legend')\n",
    "tsne_data_path = os.path.join(root,'tsne_data')\n",
    "tsne_img_path  = os.path.join(root,'tsne_images')\n",
    "\n",
    "# print(root)\n",
    "# print(tsne_data_path)\n",
    "# print(legend_path)\n",
    "# print(tsne_img_path)"
   ]
  },
  {
   "cell_type": "code",
   "execution_count": null,
   "metadata": {},
   "outputs": [],
   "source": [
    "def make_tsne_img(prop,title_str):\n",
    "    \"\"\"\n",
    "    # Function for plotting tsne data\n",
    "    # prop = name of property file having data stored in tsne_legend_path, tsne_data_path,\n",
    "    # and also the name of the output image file which will be stored in tsne_img_path\n",
    "    \"\"\"\n",
    "    legend = os.path.join(tsne_legend_path,prop)\n",
    "    data   = os.path.join(tsne_data_path,prop)\n",
    "    save   = os.path.join(tsne_img_path,prop)\n",
    "    \n",
    "    with open(legend+'_tsne_label.json','r') as f:\n",
    "        labelling = json.load(f)\n",
    "    \n",
    "    #reading the csv file having 2D tsne data\n",
    "    tsne_df = pd.read_csv(data+'_all_tsne_data.csv')\n",
    "    \n",
    "    #selecting colors\n",
    "    NUM_COLORS = len(labelling.keys())\n",
    "    cm = plt.get_cmap('jet') #'gist_ncar')\n",
    "    # cm = plt.get_cmap('nipy_spectral')\n",
    "    clrs = [cm(1.*i/NUM_COLORS) for i in range(NUM_COLORS)]\n",
    "\n",
    "    s = 5\n",
    "    set_font(size=15, family='Arial', weight='normal')\n",
    "    to_color = list(labelling.keys())\n",
    "    print(to_color)\n",
    "    mask = tsne_df.color==0\n",
    "    #plotting\n",
    "    plt.scatter(tsne_df.x1[mask], tsne_df.x2[mask], c='gray',alpha=0.1,s=s)\n",
    "    \n",
    "    for i in range(len(to_color)):\n",
    "        c = int(to_color[i])\n",
    "        mask = tsne_df.color==c\n",
    "        if c == 0:\n",
    "            pass\n",
    "        else:\n",
    "            plt.scatter(tsne_df.x1[mask], tsne_df.x2[mask],color=clrs[i],s=s,label=make_hill(labelling[str(c)]))\n",
    "\n",
    "    mask = tsne_df.color==0\n",
    "    plt.scatter(tsne_df.x1[mask].iloc[0], tsne_df.x2[mask].iloc[0], c='k',alpha=0.1,s=s,label='Miscellaneous')\n",
    "    plt.legend(markerscale=5,loc=[1.01,0.15])\n",
    "    fig = plt.gcf()\n",
    "    fig.set_size_inches(8,8)\n",
    "    plt.title(title_str)\n",
    "    plt.box(on=None)\n",
    "    plt.axis('off')\n",
    "    plt.savefig(save+'_tsne.png',bbox_inches='tight', dpi=1200)\n",
    "    plt.show()\n",
    "    plt.close()"
   ]
  },
  {
   "cell_type": "markdown",
   "metadata": {},
   "source": [
    "<h3>Calling make_tsne_img for making tsne plots"
   ]
  },
  {
   "cell_type": "code",
   "execution_count": null,
   "metadata": {},
   "outputs": [],
   "source": [
    "prop = 'Transmittance_solar' #name of property\n",
    "title_str = 'Solar transmittance (2669,28)' #title (rows,columns)\n",
    "make_tsne_img(prop,title_str)"
   ]
  }
 ],
 "metadata": {
  "kernelspec": {
   "display_name": "Python 3",
   "language": "python",
   "name": "python3"
  },
  "language_info": {
   "codemirror_mode": {
    "name": "ipython",
    "version": 3
   },
   "file_extension": ".py",
   "mimetype": "text/x-python",
   "name": "python",
   "nbconvert_exporter": "python",
   "pygments_lexer": "ipython3",
   "version": "3.7.6"
  }
 },
 "nbformat": 4,
 "nbformat_minor": 4
}
